{
 "cells": [
  {
   "cell_type": "code",
   "execution_count": 16,
   "id": "e86a38ec",
   "metadata": {
    "scrolled": true
   },
   "outputs": [
    {
     "name": "stdout",
     "output_type": "stream",
     "text": [
      "b'<html>\\n<head>\\n<title>A Useful Page</title>\\n</head>\\n<body>\\n<h1>An Interesting Title</h1>\\n<div>\\nLorem ipsum dolor sit amet, consectetur adipisicing elit, sed do eiusmod tempor incididunt ut labore et dolore magna aliqua. Ut enim ad minim veniam, quis nostrud exercitation ullamco laboris nisi ut aliquip ex ea commodo consequat. Duis aute irure dolor in reprehenderit in voluptate velit esse cillum dolore eu fugiat nulla pariatur. Excepteur sint occaecat cupidatat non proident, sunt in culpa qui officia deserunt mollit anim id est laborum.\\n</div>\\n</body>\\n</html>\\n'\n"
     ]
    }
   ],
   "source": [
    "# 2 methpds for request\n",
    "\n",
    "from urllib.request import urlopen\n",
    "from urllib.request import HTTPError, URLError\n",
    "\n",
    "\n",
    "url = 'https://pythonscraping.com/pages/page1.html'\n",
    "\n",
    "try:\n",
    "    body = urlopen(url = url)\n",
    "    print(body.read())\n",
    "except HTTPError as e:\n",
    "    print(f\"HTTP Error Occured : \\n code : {e.code} \\n reason : {e.reason} \")\n",
    "except URLError as e:\n",
    "    print(f\"URL Error Occured : \\n reason : {e.reason} \\n \")\n",
    "except Exception as e:\n",
    "    print(f\"Something else happened : {e}\")\n",
    "    "
   ]
  },
  {
   "cell_type": "code",
   "execution_count": 17,
   "id": "9e2e66c8",
   "metadata": {},
   "outputs": [
    {
     "name": "stdout",
     "output_type": "stream",
     "text": [
      "<html>\n",
      "<head>\n",
      "<title>A Useful Page</title>\n",
      "</head>\n",
      "<body>\n",
      "<h1>An Interesting Title</h1>\n",
      "<div>\n",
      "Lorem ipsum dolor sit amet, consectetur adipisicing elit, sed do eiusmod tempor incididunt ut labore et dolore magna aliqua. Ut enim ad minim veniam, quis nostrud exercitation ullamco laboris nisi ut aliquip ex ea commodo consequat. Duis aute irure dolor in reprehenderit in voluptate velit esse cillum dolore eu fugiat nulla pariatur. Excepteur sint occaecat cupidatat non proident, sunt in culpa qui officia deserunt mollit anim id est laborum.\n",
      "</div>\n",
      "</body>\n",
      "</html>\n",
      "\n"
     ]
    }
   ],
   "source": [
    "import requests\n",
    "\n",
    "url  = 'http://pythonscraping.com/pages/page1.html'\n",
    "\n",
    "try:\n",
    "    body  = requests.get(url)\n",
    "    print(body.text)\n",
    "except requests.RequestException as e:\n",
    "    print(f\"Error : {e}\")\n",
    "except Exception as e:\n",
    "    print(f\"Error : {e}\")"
   ]
  },
  {
   "cell_type": "code",
   "execution_count": 18,
   "id": "9c924426",
   "metadata": {},
   "outputs": [
    {
     "name": "stdout",
     "output_type": "stream",
     "text": [
      "<html>\n",
      " <head>\n",
      "  <title>\n",
      "   A Useful Page\n",
      "  </title>\n",
      " </head>\n",
      " <body>\n",
      "  <h1>\n",
      "   An Interesting Title\n",
      "  </h1>\n",
      "  <div>\n",
      "   Lorem ipsum dolor sit amet, consectetur adipisicing elit, sed do eiusmod tempor incididunt ut labore et dolore magna aliqua. Ut enim ad minim veniam, quis nostrud exercitation ullamco laboris nisi ut aliquip ex ea commodo consequat. Duis aute irure dolor in reprehenderit in voluptate velit esse cillum dolore eu fugiat nulla pariatur. Excepteur sint occaecat cupidatat non proident, sunt in culpa qui officia deserunt mollit anim id est laborum.\n",
      "  </div>\n",
      " </body>\n",
      "</html>\n",
      "\n"
     ]
    }
   ],
   "source": [
    "from bs4 import BeautifulSoup\n",
    "from urllib.request import urlopen\n",
    "from urllib.request import HTTPError, URLError\n",
    "\n",
    "def parse_url(url):\n",
    "    try:\n",
    "        body = urlopen(url = url)\n",
    "        if body is None:\n",
    "            print(\"No content\")\n",
    "            return None\n",
    "        return BeautifulSoup(body.read(),'html.parser')\n",
    "    except HTTPError as e:\n",
    "        print(f\"HTTP Error Occured : \\n code : {e.code} \\n reason : {e.reason} \")\n",
    "    except URLError as e:\n",
    "        print(f\"URL Error Occured : \\n reason : {e.reason} \\n \")\n",
    "    except Exception as e:\n",
    "        print(f\"Something else happened : {e}\")\n",
    "    \n",
    "    \n",
    "    \n",
    "url = 'http://pythonscraping.com/pages/page1.html'\n",
    "\n",
    "print(parse_url(url).prettify())"
   ]
  },
  {
   "cell_type": "code",
   "execution_count": 19,
   "id": "534bbb7a",
   "metadata": {},
   "outputs": [
    {
     "name": "stdout",
     "output_type": "stream",
     "text": [
      "<html>\n",
      "<head>\n",
      "<title>A Useful Page</title>\n",
      "</head>\n",
      "<body>\n",
      "<h1>An Interesting Title</h1>\n",
      "<div>\n",
      "Lorem ipsum dolor sit amet, consectetur adipisicing elit, sed do eiusmod tempor incididunt ut labore et dolore magna aliqua. Ut enim ad minim veniam, quis nostrud exercitation ullamco laboris nisi ut aliquip ex ea commodo consequat. Duis aute irure dolor in reprehenderit in voluptate velit esse cillum dolore eu fugiat nulla pariatur. Excepteur sint occaecat cupidatat non proident, sunt in culpa qui officia deserunt mollit anim id est laborum.\n",
      "</div>\n",
      "</body>\n",
      "</html>\n",
      "\n"
     ]
    }
   ],
   "source": [
    "from bs4 import BeautifulSoup\n",
    "import requests\n",
    "\n",
    "def parse_url2(url):\n",
    "    try:\n",
    "        body  = requests.get(url)\n",
    "        return body.text\n",
    "    except requests.RequestException as e:\n",
    "        print(f\"Error : {e}\")\n",
    "    except Exception as e:\n",
    "        print(f\"Error : {e}\")\n",
    "    \n",
    "    \n",
    "    \n",
    "url = 'http://pythonscraping.com/pages/page1.html'\n",
    "\n",
    "print(parse_url2(url))"
   ]
  },
  {
   "cell_type": "markdown",
   "id": "75926abb",
   "metadata": {},
   "source": [
    "## Time To Understand Beautiful Soup Working"
   ]
  },
  {
   "cell_type": "code",
   "execution_count": 93,
   "id": "719bad41",
   "metadata": {},
   "outputs": [
    {
     "name": "stdout",
     "output_type": "stream",
     "text": [
      "<html>\n",
      " <head>\n",
      "  <title>\n",
      "   A Useful Page\n",
      "  </title>\n",
      " </head>\n",
      " <body>\n",
      "  <h1>\n",
      "   An Interesting Title\n",
      "  </h1>\n",
      "  <div>\n",
      "   Lorem ipsum dolor sit amet, consectetur adipisicing elit, sed do eiusmod tempor incididunt ut labore et dolore magna aliqua. Ut enim ad minim veniam, quis nostrud exercitation ullamco laboris nisi ut aliquip ex ea commodo consequat. Duis aute irure dolor in reprehenderit in voluptate velit esse cillum dolore eu fugiat nulla pariatur. Excepteur sint occaecat cupidatat non proident, sunt in culpa qui officia deserunt mollit anim id est laborum.\n",
      "  </div>\n",
      " </body>\n",
      "</html>\n",
      "\n"
     ]
    }
   ],
   "source": [
    "url = 'http://pythonscraping.com/pages/page1.html'\n",
    "\n",
    "doc = parse_url(url)\n",
    "\n",
    "# to access any tag info simple write tag as static function (it will return the first found only)\n",
    "\n",
    "# first paragraph tag\n",
    "\n",
    "print(doc.prettify()) # no p tag present thats why None comes\n"
   ]
  },
  {
   "cell_type": "code",
   "execution_count": 27,
   "id": "c0b62b2b",
   "metadata": {},
   "outputs": [],
   "source": [
    "# lets create a function which properly fetch data \n",
    "\n",
    "# first way to do this\n",
    "def fetch_data(doc, tag):\n",
    "    result = getattr(doc,tag,None)\n",
    "    if result is None:\n",
    "        print(\"Tag not found\")\n",
    "        return[]\n",
    "    else:\n",
    "        return result\n",
    "\n",
    "\n",
    "# other way to do this\n",
    "def fetch_data2(doc, tag):\n",
    "    result = doc.find(tag)\n",
    "    if  result is None:\n",
    "        print(\"Tag not found\")\n",
    "        return []\n",
    "    else:\n",
    "        return result"
   ]
  },
  {
   "cell_type": "code",
   "execution_count": 28,
   "id": "6db30e1a",
   "metadata": {},
   "outputs": [
    {
     "name": "stdout",
     "output_type": "stream",
     "text": [
      "Tag not found\n",
      "[]\n",
      "Tag not found\n",
      "[]\n"
     ]
    }
   ],
   "source": [
    "# Check for paragraph which is not present \n",
    "\n",
    "print(fetch_data(doc,'p'))\n",
    "print(fetch_data2(doc,'p'))"
   ]
  },
  {
   "cell_type": "code",
   "execution_count": 29,
   "id": "b57cb98f",
   "metadata": {},
   "outputs": [
    {
     "name": "stdout",
     "output_type": "stream",
     "text": [
      "<div>\n",
      "Lorem ipsum dolor sit amet, consectetur adipisicing elit, sed do eiusmod tempor incididunt ut labore et dolore magna aliqua. Ut enim ad minim veniam, quis nostrud exercitation ullamco laboris nisi ut aliquip ex ea commodo consequat. Duis aute irure dolor in reprehenderit in voluptate velit esse cillum dolore eu fugiat nulla pariatur. Excepteur sint occaecat cupidatat non proident, sunt in culpa qui officia deserunt mollit anim id est laborum.\n",
      "</div>\n",
      "<h1>An Interesting Title</h1>\n",
      "<title>A Useful Page</title>\n"
     ]
    }
   ],
   "source": [
    "# we know that ther is div h1 and title is present lets see\n",
    "\n",
    "print(fetch_data(doc,'div'))\n",
    "print(fetch_data(doc,'h1'))\n",
    "print(fetch_data(doc,'title'))"
   ]
  },
  {
   "cell_type": "code",
   "execution_count": 37,
   "id": "7787dea1",
   "metadata": {},
   "outputs": [
    {
     "name": "stdout",
     "output_type": "stream",
     "text": [
      "<div>\n",
      "Lorem ipsum dolor sit amet, consectetur adipisicing elit, sed do eiusmod tempor incididunt ut labore et dolore magna aliqua. Ut enim ad minim veniam, quis nostrud exercitation ullamco laboris nisi ut aliquip ex ea commodo consequat. Duis aute irure dolor in reprehenderit in voluptate velit esse cillum dolore eu fugiat nulla pariatur. Excepteur sint occaecat cupidatat non proident, sunt in culpa qui officia deserunt mollit anim id est laborum.\n",
      "</div>\n"
     ]
    }
   ],
   "source": [
    "# you can directly access  \n",
    "print(doc.div)"
   ]
  },
  {
   "cell_type": "code",
   "execution_count": 56,
   "id": "ef77ccef",
   "metadata": {},
   "outputs": [],
   "source": [
    "# how to get attributes\n",
    "\n",
    "def get_tag_attrs(doc,tag):\n",
    "    result  = doc.find(tag)\n",
    "    if result is None:  \n",
    "        print(\"No tag exist\")\n",
    "    else:\n",
    "        print(result.attrs)"
   ]
  },
  {
   "cell_type": "code",
   "execution_count": 57,
   "id": "1f5d662c",
   "metadata": {},
   "outputs": [
    {
     "name": "stdout",
     "output_type": "stream",
     "text": [
      "{'class': 'helper'}\n",
      "None\n",
      "{'style': 'bold'}\n",
      "None\n",
      "<html>\n",
      "<head>\n",
      "<title>A Useful Page</title>\n",
      "</head>\n",
      "<body>\n",
      "<h1 class=\"helper\">An Interesting Title</h1>\n",
      "<div style=\"bold\">\n",
      "Lorem ipsum dolor sit amet, consectetur adipisicing elit, sed do eiusmod tempor incididunt ut labore et dolore magna aliqua. Ut enim ad minim veniam, quis nostrud exercitation ullamco laboris nisi ut aliquip ex ea commodo consequat. Duis aute irure dolor in reprehenderit in voluptate velit esse cillum dolore eu fugiat nulla pariatur. Excepteur sint occaecat cupidatat non proident, sunt in culpa qui officia deserunt mollit anim id est laborum.\n",
      "</div>\n",
      "</body>\n",
      "</html>\n",
      "\n",
      "{'class': 'helper'}\n",
      "None\n",
      "{'style': 'bold'}\n",
      "None\n"
     ]
    }
   ],
   "source": [
    "print(get_tag_attrs(doc,'h1'))\n",
    "print(get_tag_attrs(doc, 'div'))\n",
    "\n",
    "# add property to header\n",
    "doc.h1['class'] = 'helper'\n",
    "doc.div['style'] = 'bold'\n",
    "print(doc)\n",
    "\n",
    "print(get_tag_attrs(doc,'h1'))\n",
    "print(get_tag_attrs(doc, 'div'))"
   ]
  },
  {
   "cell_type": "code",
   "execution_count": 60,
   "id": "036b7ed4",
   "metadata": {},
   "outputs": [
    {
     "name": "stdout",
     "output_type": "stream",
     "text": [
      "h1\n",
      "div\n"
     ]
    }
   ],
   "source": [
    "print(doc.h1.name)\n",
    "print(doc.div.name)"
   ]
  },
  {
   "cell_type": "code",
   "execution_count": 61,
   "id": "d757510a",
   "metadata": {},
   "outputs": [
    {
     "name": "stdout",
     "output_type": "stream",
     "text": [
      "<html>\n",
      "<head>\n",
      "<title>A Useful Page</title>\n",
      "</head>\n",
      "<body>\n",
      "<h1>An Interesting Title</h1>\n",
      "<div style=\"bold\">\n",
      "Lorem ipsum dolor sit amet, consectetur adipisicing elit, sed do eiusmod tempor incididunt ut labore et dolore magna aliqua. Ut enim ad minim veniam, quis nostrud exercitation ullamco laboris nisi ut aliquip ex ea commodo consequat. Duis aute irure dolor in reprehenderit in voluptate velit esse cillum dolore eu fugiat nulla pariatur. Excepteur sint occaecat cupidatat non proident, sunt in culpa qui officia deserunt mollit anim id est laborum.\n",
      "</div>\n",
      "</body>\n",
      "</html>\n",
      "\n"
     ]
    }
   ],
   "source": [
    "# delete the property add above \n",
    "\n",
    "del doc.h1['class']\n",
    "\n",
    "print(doc)"
   ]
  },
  {
   "cell_type": "markdown",
   "id": "f45a5cd2",
   "metadata": {},
   "source": [
    "### 3 main objects to manipulate everything \n",
    "\n",
    "1 : Tag\n",
    "\n",
    "2 : NavigableString\n",
    "\n",
    "3 : Comment"
   ]
  },
  {
   "cell_type": "code",
   "execution_count": 72,
   "id": "8a6eb8ea",
   "metadata": {},
   "outputs": [
    {
     "name": "stdout",
     "output_type": "stream",
     "text": [
      "<h1>An Interesting Title</h1>\n",
      "{'style': 'bold'}\n",
      "title\n",
      "<div style=\"bold\">\n",
      "Lorem ipsum dolor sit amet, consectetur adipisicing elit, sed do eiusmod tempor incididunt ut labore et dolore magna aliqua. Ut enim ad minim veniam, quis nostrud exercitation ullamco laboris nisi ut aliquip ex ea commodo consequat. Duis aute irure dolor in reprehenderit in voluptate velit esse cillum dolore eu fugiat nulla pariatur. Excepteur sint occaecat cupidatat non proident, sunt in culpa qui officia deserunt mollit anim id est laborum.\n",
      "</div>\n",
      "<h1>An Interesting Title</h1>\n",
      "[<title>A Useful Page</title>, <h1>An Interesting Title</h1>, <div style=\"bold\">\n",
      "Lorem ipsum dolor sit amet, consectetur adipisicing elit, sed do eiusmod tempor incididunt ut labore et dolore magna aliqua. Ut enim ad minim veniam, quis nostrud exercitation ullamco laboris nisi ut aliquip ex ea commodo consequat. Duis aute irure dolor in reprehenderit in voluptate velit esse cillum dolore eu fugiat nulla pariatur. Excepteur sint occaecat cupidatat non proident, sunt in culpa qui officia deserunt mollit anim id est laborum.\n",
      "</div>]\n"
     ]
    }
   ],
   "source": [
    "# accessing tag\n",
    "print(doc.h1)\n",
    "\n",
    "# acessing any tag properties\n",
    "print(doc.div.attrs)\n",
    "\n",
    "# tag name specified\n",
    "print(doc.title.name)\n",
    "\n",
    "\n",
    "# use find method to get info of tag\n",
    "print(doc.find('div'))\n",
    "\n",
    "# use getattr method to get info \n",
    "print(getattr(doc,'h1',None))\n",
    "\n",
    "# use find_all method to acess multiple tags or all occurence of a tag\n",
    "print(doc.find_all(['h1','div','title']))"
   ]
  },
  {
   "cell_type": "code",
   "execution_count": 94,
   "id": "74befc4a",
   "metadata": {},
   "outputs": [
    {
     "name": "stdout",
     "output_type": "stream",
     "text": [
      "\n",
      "Lorem ipsum dolor sit amet, consectetur adipisicing elit, sed do eiusmod tempor incididunt ut labore et dolore magna aliqua. Ut enim ad minim veniam, quis nostrud exercitation ullamco laboris nisi ut aliquip ex ea commodo consequat. Duis aute irure dolor in reprehenderit in voluptate velit esse cillum dolore eu fugiat nulla pariatur. Excepteur sint occaecat cupidatat non proident, sunt in culpa qui officia deserunt mollit anim id est laborum.\n",
      "\n",
      "\n",
      "Lorem ipsum dolor sit amet, consectetur adipisicing elit, sed do eiusmod tempor incididunt ut labore et dolore magna aliqua. Ut enim ad minim veniam, quis nostrud exercitation ullamco laboris nisi ut aliquip ex ea commodo consequat. Duis aute irure dolor in reprehenderit in voluptate velit esse cillum dolore eu fugiat nulla pariatur. Excepteur sint occaecat cupidatat non proident, sunt in culpa qui officia deserunt mollit anim id est laborum.\n",
      "\n",
      "\n",
      "Lorem ipsum dolor sit amet, consectetur adipisicing elit, sed do eiusmod tempor incididunt ut labore et dolore magna aliqua. Ut enim ad minim veniam, quis nostrud exercitation ullamco laboris nisi ut aliquip ex ea commodo consequat. Duis aute irure dolor in reprehenderit in voluptate velit esse cillum dolore eu fugiat nulla pariatur. Excepteur sint occaecat cupidatat non proident, sunt in culpa qui officia deserunt mollit anim id est laborum.\n",
      "\n",
      "<html>\n",
      "<head>\n",
      "<title>A Useful Page</title>\n",
      "</head>\n",
      "<body>\n",
      "<h1>An Interesting Title</h1>\n",
      "<div>new_content is not avail</div>\n",
      "</body>\n",
      "</html>\n",
      "\n"
     ]
    }
   ],
   "source": [
    "# navigable string allow you to acess content within tag\n",
    "\n",
    "# .text method\n",
    "print(doc.div.text)\n",
    "\n",
    "# .get_text()\n",
    "print(doc.div.get_text())\n",
    "\n",
    "# .string method\n",
    "print(doc.div.string)\n",
    "\n",
    "# # you can even modify the content\n",
    "doc.div.string.replace_with(\"new_content is not avail\")\n",
    "print(doc)"
   ]
  },
  {
   "cell_type": "code",
   "execution_count": 103,
   "id": "f476b80d",
   "metadata": {},
   "outputs": [
    {
     "name": "stdout",
     "output_type": "stream",
     "text": [
      "<html>\n",
      "<head>\n",
      "<title>A Useful Page</title>\n",
      "</head>\n",
      "<body>\n",
      "<h1>An Interesting Title</h1>\n",
      "<div>new_content is not avail</div>\n",
      "</body>\n",
      "</html>\n",
      "\n",
      " \n",
      " \n",
      " \n",
      "Children for 'head' : \n",
      "\n",
      "\n",
      "<title>A Useful Page</title>\n",
      "\n",
      "\n",
      " \n",
      " \n",
      " \n",
      "Descendants for 'head' : \n",
      "\n",
      "\n",
      "<h1>An Interesting Title</h1>\n",
      "An Interesting Title\n",
      "\n",
      "\n",
      "<div>new_content is not avail</div>\n",
      "new_content is not avail\n",
      "\n",
      "\n"
     ]
    }
   ],
   "source": [
    "print(doc)\n",
    "\n",
    "print(\" \")\n",
    "print(\" \")\n",
    "print(\" \")\n",
    "\n",
    "print(\"Children for 'head' : \")\n",
    "for child in doc.find('head').children:\n",
    "    if child is None:\n",
    "        print(\"no child\")\n",
    "    else:\n",
    "        print(child)\n",
    "        \n",
    "        \n",
    "print(\" \")\n",
    "print(\" \")\n",
    "print(\" \")\n",
    "\n",
    "print(\"Descendants for 'head' : \")\n",
    "for child in doc.find('body').descendants:\n",
    "    if child is None:\n",
    "        print(\"no descendants\")\n",
    "    else:\n",
    "        print(child)"
   ]
  },
  {
   "cell_type": "code",
   "execution_count": 105,
   "id": "5e6c072a",
   "metadata": {},
   "outputs": [
    {
     "name": "stdout",
     "output_type": "stream",
     "text": [
      "\n",
      "\n",
      "\n",
      "\n",
      "A Useful Page\n",
      "\n",
      "\n",
      "\n",
      "\n",
      "\n",
      "\n",
      "An Interesting Title\n",
      "\n",
      "\n",
      "new_content is not avail\n",
      "\n",
      "\n",
      "\n",
      "\n",
      "\n",
      "\n"
     ]
    }
   ],
   "source": [
    "# to get only contents\n",
    "for string in doc.strings:\n",
    "    print(string)"
   ]
  },
  {
   "cell_type": "code",
   "execution_count": 107,
   "id": "a696f604",
   "metadata": {},
   "outputs": [
    {
     "name": "stdout",
     "output_type": "stream",
     "text": [
      "<html>\n",
      "<head>\n",
      "<title>A Useful Page</title>\n",
      "</head>\n",
      "<body>\n",
      "<h1>An Interesting Title</h1>\n",
      "<div>new_content is not avail</div>\n",
      "</body>\n",
      "</html>\n",
      "\n"
     ]
    }
   ],
   "source": [
    "print(doc)"
   ]
  },
  {
   "cell_type": "code",
   "execution_count": 112,
   "id": "8d22db52",
   "metadata": {},
   "outputs": [
    {
     "name": "stdout",
     "output_type": "stream",
     "text": [
      "Parent tag of h1 : body\n"
     ]
    },
    {
     "data": {
      "text/plain": [
       "<body>\n",
       "<h1>An Interesting Title</h1>\n",
       "<div>new_content is not avail</div>\n",
       "</body>"
      ]
     },
     "execution_count": 112,
     "metadata": {},
     "output_type": "execute_result"
    }
   ],
   "source": [
    "# to get parent \n",
    "\n",
    "#  as we know that h1 is come inside body therefore parent of h1 is body  \n",
    "print(f\"Parent tag of h1 : {doc.h1.parent.name}\")\n",
    "\n",
    "doc.h1.parent"
   ]
  },
  {
   "cell_type": "code",
   "execution_count": 116,
   "id": "29cf1348",
   "metadata": {},
   "outputs": [
    {
     "name": "stdout",
     "output_type": "stream",
     "text": [
      "head\n",
      "html\n",
      "[document]\n"
     ]
    }
   ],
   "source": [
    "# you can even traverse the entire parents heirarchy from bootom to top\n",
    "\n",
    "for parent in doc.title.parents:\n",
    "    print(parent.name)"
   ]
  },
  {
   "cell_type": "code",
   "execution_count": 118,
   "id": "82ebe9c1",
   "metadata": {
    "scrolled": true
   },
   "outputs": [
    {
     "name": "stdout",
     "output_type": "stream",
     "text": [
      "<!DOCTYPE html>\n",
      "<html lang=\"en\">\n",
      " <head>\n",
      "  <meta charset=\"utf-8\"/>\n",
      "  <meta content=\"width=device-width, initial-scale=1.0\" name=\"viewport\"/>\n",
      "  <title>\n",
      "   Sibling Elements\n",
      "  </title>\n",
      "  <style>\n",
      "   .box {\n",
      "            width: 100px;\n",
      "            height: 100px;\n",
      "            background-color: skyblue;\n",
      "            margin: 10px;\n",
      "            display: inline-block;\n",
      "        }\n",
      "  </style>\n",
      " </head>\n",
      " <body>\n",
      "  <div class=\"container\">\n",
      "   <div class=\"box\">\n",
      "    Box 1\n",
      "   </div>\n",
      "   <div class=\"box\">\n",
      "    Box 2\n",
      "   </div>\n",
      "   <div class=\"box\">\n",
      "    Box 3\n",
      "   </div>\n",
      "   <div class=\"box\">\n",
      "    Box 4\n",
      "   </div>\n",
      "  </div>\n",
      " </body>\n",
      "</html>\n",
      "\n"
     ]
    }
   ],
   "source": [
    "# you can also find siblings\n",
    "new_body = \"\"\"\n",
    "<!DOCTYPE html>\n",
    "<html lang=\"en\">\n",
    "<head>\n",
    "    <meta charset=\"UTF-8\">\n",
    "    <meta name=\"viewport\" content=\"width=device-width, initial-scale=1.0\">\n",
    "    <title>Sibling Elements</title>\n",
    "    <style>\n",
    "        .box {\n",
    "            width: 100px;\n",
    "            height: 100px;\n",
    "            background-color: skyblue;\n",
    "            margin: 10px;\n",
    "            display: inline-block;\n",
    "        }\n",
    "    </style>\n",
    "</head>\n",
    "<body>\n",
    "    <div class=\"container\">\n",
    "        <div class=\"box\">Box 1</div>\n",
    "        <div class=\"box\">Box 2</div>\n",
    "        <div class=\"box\">Box 3</div>\n",
    "        <div class=\"box\">Box 4</div>\n",
    "    </div>\n",
    "</body>\n",
    "</html>\n",
    "\"\"\"\n",
    "\n",
    "doc2 = BeautifulSoup(new_body,'html.parser')\n",
    "\n",
    "print(doc2.prettify())"
   ]
  },
  {
   "cell_type": "code",
   "execution_count": null,
   "id": "59069f0f",
   "metadata": {},
   "outputs": [],
   "source": [
    "for sib in doc2.find_all('div', {'class' : 'box'}):\n",
    "    if(sib.next_sibling.next_sibling is not None):\n",
    "        print(sib.next_sibling.next_sibling)"
   ]
  },
  {
   "cell_type": "code",
   "execution_count": null,
   "id": "87da4625",
   "metadata": {},
   "outputs": [],
   "source": [
    "last_tag = doc2.find_all('div', {'class': 'box'})[-1]\n",
    "print(last_tag)\n",
    "\n",
    "while True:\n",
    "    prev = last_tag.previous_sibling.previous_sibling\n",
    "    if prev is None:\n",
    "        break\n",
    "    print(prev)\n",
    "    last_tag = prev\n"
   ]
  }
 ],
 "metadata": {
  "kernelspec": {
   "display_name": "Python 3 (ipykernel)",
   "language": "python",
   "name": "python3"
  },
  "language_info": {
   "codemirror_mode": {
    "name": "ipython",
    "version": 3
   },
   "file_extension": ".py",
   "mimetype": "text/x-python",
   "name": "python",
   "nbconvert_exporter": "python",
   "pygments_lexer": "ipython3",
   "version": "3.9.12"
  }
 },
 "nbformat": 4,
 "nbformat_minor": 5
}
