{
 "cells": [
  {
   "cell_type": "markdown",
   "metadata": {},
   "source": [
    "# TIME FOR SCRAPY"
   ]
  },
  {
   "cell_type": "code",
   "execution_count": 3,
   "metadata": {},
   "outputs": [
    {
     "name": "stdout",
     "output_type": "stream",
     "text": [
      "Requirement already satisfied: scrapy in c:\\users\\ujjwa\\desktop\\data science\\scraping\\pythonscraping\\scrapingenv\\lib\\site-packages (2.11.2)\n",
      "Requirement already satisfied: Twisted>=18.9.0 in c:\\users\\ujjwa\\desktop\\data science\\scraping\\pythonscraping\\scrapingenv\\lib\\site-packages (from scrapy) (24.3.0)\n",
      "Requirement already satisfied: cryptography>=36.0.0 in c:\\users\\ujjwa\\desktop\\data science\\scraping\\pythonscraping\\scrapingenv\\lib\\site-packages (from scrapy) (42.0.8)\n",
      "Requirement already satisfied: cssselect>=0.9.1 in c:\\users\\ujjwa\\desktop\\data science\\scraping\\pythonscraping\\scrapingenv\\lib\\site-packages (from scrapy) (1.2.0)\n",
      "Requirement already satisfied: itemloaders>=1.0.1 in c:\\users\\ujjwa\\desktop\\data science\\scraping\\pythonscraping\\scrapingenv\\lib\\site-packages (from scrapy) (1.3.1)\n",
      "Requirement already satisfied: parsel>=1.5.0 in c:\\users\\ujjwa\\desktop\\data science\\scraping\\pythonscraping\\scrapingenv\\lib\\site-packages (from scrapy) (1.9.1)\n",
      "Requirement already satisfied: pyOpenSSL>=21.0.0 in c:\\users\\ujjwa\\desktop\\data science\\scraping\\pythonscraping\\scrapingenv\\lib\\site-packages (from scrapy) (24.1.0)\n",
      "Requirement already satisfied: queuelib>=1.4.2 in c:\\users\\ujjwa\\desktop\\data science\\scraping\\pythonscraping\\scrapingenv\\lib\\site-packages (from scrapy) (1.7.0)\n",
      "Requirement already satisfied: service-identity>=18.1.0 in c:\\users\\ujjwa\\desktop\\data science\\scraping\\pythonscraping\\scrapingenv\\lib\\site-packages (from scrapy) (24.1.0)\n",
      "Requirement already satisfied: w3lib>=1.17.0 in c:\\users\\ujjwa\\desktop\\data science\\scraping\\pythonscraping\\scrapingenv\\lib\\site-packages (from scrapy) (2.2.1)\n",
      "Requirement already satisfied: zope.interface>=5.1.0 in c:\\users\\ujjwa\\desktop\\data science\\scraping\\pythonscraping\\scrapingenv\\lib\\site-packages (from scrapy) (6.4.post2)\n",
      "Requirement already satisfied: protego>=0.1.15 in c:\\users\\ujjwa\\desktop\\data science\\scraping\\pythonscraping\\scrapingenv\\lib\\site-packages (from scrapy) (0.3.1)\n",
      "Requirement already satisfied: itemadapter>=0.1.0 in c:\\users\\ujjwa\\desktop\\data science\\scraping\\pythonscraping\\scrapingenv\\lib\\site-packages (from scrapy) (0.9.0)\n",
      "Requirement already satisfied: setuptools in c:\\users\\ujjwa\\desktop\\data science\\scraping\\pythonscraping\\scrapingenv\\lib\\site-packages (from scrapy) (69.5.1)\n",
      "Requirement already satisfied: packaging in c:\\users\\ujjwa\\desktop\\data science\\scraping\\pythonscraping\\scrapingenv\\lib\\site-packages (from scrapy) (24.1)\n",
      "Requirement already satisfied: tldextract in c:\\users\\ujjwa\\desktop\\data science\\scraping\\pythonscraping\\scrapingenv\\lib\\site-packages (from scrapy) (5.1.2)\n",
      "Requirement already satisfied: lxml>=4.4.1 in c:\\users\\ujjwa\\desktop\\data science\\scraping\\pythonscraping\\scrapingenv\\lib\\site-packages (from scrapy) (5.2.2)\n",
      "Requirement already satisfied: defusedxml>=0.7.1 in c:\\users\\ujjwa\\desktop\\data science\\scraping\\pythonscraping\\scrapingenv\\lib\\site-packages (from scrapy) (0.7.1)\n",
      "Requirement already satisfied: PyDispatcher>=2.0.5 in c:\\users\\ujjwa\\desktop\\data science\\scraping\\pythonscraping\\scrapingenv\\lib\\site-packages (from scrapy) (2.0.7)\n",
      "Requirement already satisfied: cffi>=1.12 in c:\\users\\ujjwa\\desktop\\data science\\scraping\\pythonscraping\\scrapingenv\\lib\\site-packages (from cryptography>=36.0.0->scrapy) (1.16.0)\n",
      "Requirement already satisfied: jmespath>=0.9.5 in c:\\users\\ujjwa\\desktop\\data science\\scraping\\pythonscraping\\scrapingenv\\lib\\site-packages (from itemloaders>=1.0.1->scrapy) (1.0.1)\n",
      "Requirement already satisfied: attrs>=19.1.0 in c:\\users\\ujjwa\\desktop\\data science\\scraping\\pythonscraping\\scrapingenv\\lib\\site-packages (from service-identity>=18.1.0->scrapy) (23.2.0)\n",
      "Requirement already satisfied: pyasn1 in c:\\users\\ujjwa\\desktop\\data science\\scraping\\pythonscraping\\scrapingenv\\lib\\site-packages (from service-identity>=18.1.0->scrapy) (0.6.0)\n",
      "Requirement already satisfied: pyasn1-modules in c:\\users\\ujjwa\\desktop\\data science\\scraping\\pythonscraping\\scrapingenv\\lib\\site-packages (from service-identity>=18.1.0->scrapy) (0.4.0)\n",
      "Requirement already satisfied: automat>=0.8.0 in c:\\users\\ujjwa\\desktop\\data science\\scraping\\pythonscraping\\scrapingenv\\lib\\site-packages (from Twisted>=18.9.0->scrapy) (22.10.0)\n",
      "Requirement already satisfied: constantly>=15.1 in c:\\users\\ujjwa\\desktop\\data science\\scraping\\pythonscraping\\scrapingenv\\lib\\site-packages (from Twisted>=18.9.0->scrapy) (23.10.4)\n",
      "Requirement already satisfied: hyperlink>=17.1.1 in c:\\users\\ujjwa\\desktop\\data science\\scraping\\pythonscraping\\scrapingenv\\lib\\site-packages (from Twisted>=18.9.0->scrapy) (21.0.0)\n",
      "Requirement already satisfied: incremental>=22.10.0 in c:\\users\\ujjwa\\desktop\\data science\\scraping\\pythonscraping\\scrapingenv\\lib\\site-packages (from Twisted>=18.9.0->scrapy) (22.10.0)\n",
      "Requirement already satisfied: twisted-iocpsupport<2,>=1.0.2 in c:\\users\\ujjwa\\desktop\\data science\\scraping\\pythonscraping\\scrapingenv\\lib\\site-packages (from Twisted>=18.9.0->scrapy) (1.0.4)\n",
      "Requirement already satisfied: typing-extensions>=4.2.0 in c:\\users\\ujjwa\\desktop\\data science\\scraping\\pythonscraping\\scrapingenv\\lib\\site-packages (from Twisted>=18.9.0->scrapy) (4.12.2)\n",
      "Requirement already satisfied: idna in c:\\users\\ujjwa\\desktop\\data science\\scraping\\pythonscraping\\scrapingenv\\lib\\site-packages (from tldextract->scrapy) (3.7)\n",
      "Requirement already satisfied: requests>=2.1.0 in c:\\users\\ujjwa\\desktop\\data science\\scraping\\pythonscraping\\scrapingenv\\lib\\site-packages (from tldextract->scrapy) (2.32.3)\n",
      "Requirement already satisfied: requests-file>=1.4 in c:\\users\\ujjwa\\desktop\\data science\\scraping\\pythonscraping\\scrapingenv\\lib\\site-packages (from tldextract->scrapy) (2.1.0)\n",
      "Requirement already satisfied: filelock>=3.0.8 in c:\\users\\ujjwa\\desktop\\data science\\scraping\\pythonscraping\\scrapingenv\\lib\\site-packages (from tldextract->scrapy) (3.14.0)\n",
      "Requirement already satisfied: six in c:\\users\\ujjwa\\desktop\\data science\\scraping\\pythonscraping\\scrapingenv\\lib\\site-packages (from automat>=0.8.0->Twisted>=18.9.0->scrapy) (1.16.0)\n",
      "Requirement already satisfied: pycparser in c:\\users\\ujjwa\\desktop\\data science\\scraping\\pythonscraping\\scrapingenv\\lib\\site-packages (from cffi>=1.12->cryptography>=36.0.0->scrapy) (2.22)\n",
      "Requirement already satisfied: charset-normalizer<4,>=2 in c:\\users\\ujjwa\\desktop\\data science\\scraping\\pythonscraping\\scrapingenv\\lib\\site-packages (from requests>=2.1.0->tldextract->scrapy) (3.3.2)\n",
      "Requirement already satisfied: urllib3<3,>=1.21.1 in c:\\users\\ujjwa\\desktop\\data science\\scraping\\pythonscraping\\scrapingenv\\lib\\site-packages (from requests>=2.1.0->tldextract->scrapy) (2.2.1)\n",
      "Requirement already satisfied: certifi>=2017.4.17 in c:\\users\\ujjwa\\desktop\\data science\\scraping\\pythonscraping\\scrapingenv\\lib\\site-packages (from requests>=2.1.0->tldextract->scrapy) (2024.6.2)\n",
      "Note: you may need to restart the kernel to use updated packages.\n"
     ]
    }
   ],
   "source": [
    "# scrapy install\n",
    "# pip install scrapy"
   ]
  },
  {
   "cell_type": "code",
   "execution_count": null,
   "metadata": {},
   "outputs": [],
   "source": []
  }
 ],
 "metadata": {
  "kernelspec": {
   "display_name": "ScrapingEnv",
   "language": "python",
   "name": "python3"
  },
  "language_info": {
   "codemirror_mode": {
    "name": "ipython",
    "version": 3
   },
   "file_extension": ".py",
   "mimetype": "text/x-python",
   "name": "python",
   "nbconvert_exporter": "python",
   "pygments_lexer": "ipython3",
   "version": "3.10.5"
  }
 },
 "nbformat": 4,
 "nbformat_minor": 2
}
